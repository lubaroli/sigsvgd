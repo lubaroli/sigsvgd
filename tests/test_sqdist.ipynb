{
 "cells": [
  {
   "cell_type": "code",
   "execution_count": 1,
   "metadata": {},
   "outputs": [],
   "source": [
    "import numexpr as ne\n",
    "import numpy as np\n",
    "import torch\n",
    "from numba import jit\n",
    "from scipy.linalg.blas import sgemm\n",
    "\n",
    "\n",
    "def app1(X, Y, gamma, var):\n",
    "    X_norm = np.einsum(\"ij,ij->i\", X, X)\n",
    "    Y_norm = np.einsum(\"ij,ij->i\", Y, Y)\n",
    "    return ne.evaluate(\n",
    "        \"v * exp(-g * (A + B - 2 * C))\",\n",
    "        {\n",
    "            \"A\": X_norm[:, None],\n",
    "            \"B\": Y_norm[None, :],\n",
    "            \"C\": np.dot(X, Y.T),\n",
    "            \"g\": gamma,\n",
    "            \"v\": var,\n",
    "        },\n",
    "    )\n",
    "\n",
    "\n",
    "def app2(X, Y, gamma, var):\n",
    "    X_norm = np.einsum(\"ij,ij->i\", X, X)\n",
    "    Y_norm = np.einsum(\"ij,ij->i\", Y, Y)\n",
    "    return ne.evaluate(\n",
    "        \"v * exp(-g * (A + B + C))\",\n",
    "        {\n",
    "            \"A\": X_norm[:, None],\n",
    "            \"B\": Y_norm[None, :],\n",
    "            \"C\": sgemm(alpha=-2.0, a=X, b=Y, trans_b=True),\n",
    "            \"g\": gamma,\n",
    "            \"v\": var,\n",
    "        },\n",
    "    )\n",
    "\n",
    "\n",
    "@torch.jit.script\n",
    "def app3(X: torch.Tensor, Y: torch.Tensor, gamma:float, var:float):\n",
    "    X_norm = torch.einsum(\"ij,ij->i\", X, X)\n",
    "    Y_norm = torch.einsum(\"ij,ij->i\", Y, Y)\n",
    "    X_YT = torch.einsum(\"ij,kj->ik\", X, Y)\n",
    "    return var * torch.exp(-gamma * (X_norm[:, None] + Y_norm[None, :] - 2 * X_YT))\n",
    "\n",
    "def app4(X: torch.Tensor, Y: torch.Tensor, gamma:float, var:float):\n",
    "    X_norm = torch.einsum(\"ij,ij->i\", X, X)\n",
    "    Y_norm = torch.einsum(\"ij,ij->i\", Y, Y)\n",
    "    X_YT = torch.einsum(\"ij,kj->ik\", X, Y)\n",
    "    return var * torch.exp(-gamma * (X_norm[:, None] + Y_norm[None, :] - 2 * X_YT))\n",
    "\n",
    "def app5(X, Y, M, gamma:float, var:float):\n",
    "    diff = X[:, None, :] - Y[None, :, :]\n",
    "    dM = torch.einsum(\"bij,jk->bik\", diff, M)\n",
    "    dMdT = torch.einsum(\"bij,bij->bi\", dM, diff)\n",
    "    return var * torch.exp(-gamma * dMdT)\n",
    "\n",
    "def app6(X, Y, M, gamma:float, var:float):\n",
    "    diff = X[:, None, :] - Y[None, :, :]\n",
    "    diff_M = diff @ M\n",
    "    dMdT = (diff_M * diff).sum(-1)\n",
    "    return var * torch.exp(-gamma * dMdT)"
   ]
  },
  {
   "cell_type": "code",
   "execution_count": 2,
   "metadata": {},
   "outputs": [],
   "source": [
    "BATCH, DIM = [3000, 200]\n",
    "torch.set_default_dtype(torch.double)\n",
    "X = torch.randn(BATCH, DIM)\n",
    "Y = torch.randn(BATCH, DIM)\n",
    "M = torch.eye(DIM)\n",
    "gamma = 0.1\n",
    "var = 5.0\n"
   ]
  },
  {
   "cell_type": "code",
   "execution_count": 159,
   "metadata": {},
   "outputs": [
    {
     "name": "stdout",
     "output_type": "stream",
     "text": [
      "113 ms ± 3.91 ms per loop (mean ± std. dev. of 7 runs, 1 loop each)\n",
      "73.4 ms ± 3.03 ms per loop (mean ± std. dev. of 7 runs, 10 loops each)\n",
      "171 ms ± 1.06 ms per loop (mean ± std. dev. of 7 runs, 10 loops each)\n",
      "173 ms ± 3.26 ms per loop (mean ± std. dev. of 7 runs, 10 loops each)\n",
      "3min 33s ± 8.84 s per loop (mean ± std. dev. of 7 runs, 1 loop each)\n",
      "4min 49s ± 9.62 s per loop (mean ± std. dev. of 7 runs, 1 loop each)\n"
     ]
    }
   ],
   "source": [
    "%timeit app1(X.numpy(), Y.numpy(), gamma, var)\n",
    "%timeit app2(X.numpy(), Y.numpy(), gamma, var)\n",
    "%timeit app3(X, Y, gamma, var)\n",
    "%timeit app4(X, Y, gamma, var)\n",
    "%timeit app5(X, Y, M, gamma, var)\n",
    "%timeit app6(X, Y, M, gamma, var)"
   ]
  },
  {
   "cell_type": "code",
   "execution_count": 3,
   "metadata": {},
   "outputs": [
    {
     "name": "stdout",
     "output_type": "stream",
     "text": [
      "True\n",
      "True\n",
      "True\n"
     ]
    }
   ],
   "source": [
    "res1 = app1(X.numpy(), Y.numpy(), gamma, var)\n",
    "res2 = app2(X.numpy(), Y.numpy(), gamma, var)\n",
    "res3 = app3(X, Y, gamma, var)\n",
    "res4 = app4(X, Y, gamma, var)\n",
    "# res5 = app5(X, Y, M, gamma, var)\n",
    "# res6 = app6(X, Y, M, gamma, var)\n",
    "\n",
    "print(np.allclose(res1, res2))\n",
    "print(np.allclose(res2, res3))\n",
    "print(np.allclose(res3, res4))\n",
    "# print(np.allclose(res4, res5))\n",
    "# print(np.allclose(res5, res6))"
   ]
  },
  {
   "cell_type": "code",
   "execution_count": 10,
   "metadata": {},
   "outputs": [
    {
     "data": {
      "text/plain": [
       "False"
      ]
     },
     "execution_count": 10,
     "metadata": {},
     "output_type": "execute_result"
    }
   ],
   "source": [
    "from sklearn.metrics.pairwise import euclidean_distances, paired_distances\n",
    "\n",
    "res7 = var * np.exp(-gamma * euclidean_distances(X, Y, squared=True))\n",
    "res8 = var * np.exp(-gamma * paired_distances(X, Y, metric=lambda X, Y: X @ M.numpy() @ Y.T) ** 2)\n",
    "np.allclose(res7, res8)"
   ]
  },
  {
   "cell_type": "code",
   "execution_count": 16,
   "metadata": {},
   "outputs": [
    {
     "data": {
      "text/plain": [
       "array([[1.23209562e-21, 1.71467348e-20, 6.57732083e-19, ...,\n",
       "        5.78520745e-17, 3.26711483e-18, 4.37651596e-16],\n",
       "       [2.04684470e-16, 9.75048355e-16, 2.17910272e-19, ...,\n",
       "        2.48541964e-16, 1.77949414e-16, 4.78741975e-17],\n",
       "       [4.77888523e-18, 1.64343976e-16, 1.19994201e-16, ...,\n",
       "        1.07172281e-18, 1.14148006e-15, 6.17344102e-16],\n",
       "       ...,\n",
       "       [1.84529090e-19, 8.77244639e-17, 5.73377928e-17, ...,\n",
       "        2.94019341e-15, 3.41572771e-17, 2.72535019e-18],\n",
       "       [3.53770999e-17, 1.02515794e-15, 1.97449921e-18, ...,\n",
       "        3.00431546e-15, 5.28883421e-16, 5.76570105e-16],\n",
       "       [3.12631505e-18, 3.23616528e-20, 2.82122623e-18, ...,\n",
       "        8.09796268e-17, 6.35229953e-17, 1.02331294e-17]])"
      ]
     },
     "execution_count": 16,
     "metadata": {},
     "output_type": "execute_result"
    }
   ],
   "source": [
    "res7"
   ]
  },
  {
   "cell_type": "code",
   "execution_count": 15,
   "metadata": {},
   "outputs": [
    {
     "data": {
      "text/plain": [
       "array([1.65213810e-30, 3.49667650e-11, 2.14928364e-01, ...,\n",
       "       6.16201577e-15, 3.64440105e+00, 8.50200258e-06])"
      ]
     },
     "execution_count": 15,
     "metadata": {},
     "output_type": "execute_result"
    }
   ],
   "source": [
    "res8"
   ]
  },
  {
   "cell_type": "code",
   "execution_count": null,
   "metadata": {},
   "outputs": [],
   "source": []
  }
 ],
 "metadata": {
  "kernelspec": {
   "display_name": "Python 3.9.6 ('pathsig')",
   "language": "python",
   "name": "python3"
  },
  "language_info": {
   "codemirror_mode": {
    "name": "ipython",
    "version": 3
   },
   "file_extension": ".py",
   "mimetype": "text/x-python",
   "name": "python",
   "nbconvert_exporter": "python",
   "pygments_lexer": "ipython3",
   "version": "3.9.6"
  },
  "orig_nbformat": 4,
  "vscode": {
   "interpreter": {
    "hash": "4acac48751243e0fed1e0cf06501c673a2357494ed9bda5b4e15028541113640"
   }
  }
 },
 "nbformat": 4,
 "nbformat_minor": 2
}
