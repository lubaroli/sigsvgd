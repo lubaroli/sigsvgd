{
 "cells": [
  {
   "cell_type": "code",
   "execution_count": 1,
   "metadata": {},
   "outputs": [],
   "source": [
    "import numpy as np\n",
    "import torch\n",
    "from numba import jit\n",
    "from scipy.linalg.blas import sgemm\n",
    "from scipy.spatial.distance import pdist, squareform\n",
    "\n",
    "\n",
    "@torch.jit.script\n",
    "def app1(X: torch.Tensor, Y: torch.Tensor):\n",
    "    X_norm = torch.einsum(\"ij,ij->i\", X, X)\n",
    "    Y_norm = torch.einsum(\"ij,ij->i\", Y, Y)\n",
    "    X_YT = torch.einsum(\"ij,kj->ik\", X, Y)\n",
    "    return X_norm[:, None] + Y_norm[None, :] - 2 * X_YT\n",
    "\n",
    "def app2(X: torch.Tensor, Y: torch.Tensor):\n",
    "    X_norm = torch.einsum(\"ij,ij->i\", X, X)\n",
    "    Y_norm = torch.einsum(\"ij,ij->i\", Y, Y)\n",
    "    X_YT = torch.einsum(\"ij,kj->ik\", X, Y)\n",
    "    return X_norm[:, None] + Y_norm[None, :] - 2 * X_YT\n",
    "\n",
    "def app3(X, Y, M):\n",
    "    diff = X[:, None, :] - Y[None, :, :]\n",
    "    diff_M = torch.einsum(\"bij,jk->bik\", diff, M)\n",
    "    diff_M_diffT = torch.einsum(\"bij,bij->bi\", diff_M, diff)\n",
    "    return diff_M_diffT\n",
    "\n",
    "def app4(X, Y, M):\n",
    "    diff = X[:, None, :] - Y[None, :, :]\n",
    "    diff_M = diff @ M\n",
    "    diff_M_diffT = (diff_M * diff).sum(-1)\n",
    "    return diff_M_diffT\n",
    "\n",
    "def app5(X, Y):\n",
    "    X_norm = X.pow(2).sum(dim=-1, keepdim=True)\n",
    "    Y_norm = Y.pow(2).sum(dim=-1, keepdim=True)\n",
    "    res = torch.addmm(\n",
    "        Y_norm.transpose(-2, -1), X, Y.transpose(-2, -1), alpha=-2\n",
    "    ).add_(X_norm)\n",
    "    return res\n",
    "\n",
    "def app6(X):\n",
    "    sq_dist = pdist(X)\n",
    "    pairwise_dists = squareform(sq_dist)**2\n",
    "    return pairwise_dists"
   ]
  },
  {
   "cell_type": "code",
   "execution_count": 2,
   "metadata": {},
   "outputs": [],
   "source": [
    "BATCH, DIM = [300, 20]\n",
    "torch.set_default_dtype(torch.double)\n",
    "X = torch.randn(BATCH, DIM)\n",
    "Y = torch.randn(BATCH, DIM)\n",
    "M = torch.eye(DIM)"
   ]
  },
  {
   "cell_type": "code",
   "execution_count": 4,
   "metadata": {},
   "outputs": [
    {
     "name": "stdout",
     "output_type": "stream",
     "text": [
      "417 µs ± 21.1 µs per loop (mean ± std. dev. of 7 runs, 1,000 loops each)\n",
      "329 µs ± 31.6 µs per loop (mean ± std. dev. of 7 runs, 1,000 loops each)\n",
      "221 µs ± 1.04 µs per loop (mean ± std. dev. of 7 runs, 1,000 loops each)\n",
      "256 µs ± 915 ns per loop (mean ± std. dev. of 7 runs, 1,000 loops each)\n",
      "5.88 ms ± 72 µs per loop (mean ± std. dev. of 7 runs, 100 loops each)\n",
      "8.43 ms ± 30.7 µs per loop (mean ± std. dev. of 7 runs, 100 loops each)\n",
      "152 µs ± 125 ns per loop (mean ± std. dev. of 7 runs, 10,000 loops each)\n",
      "847 µs ± 3.47 µs per loop (mean ± std. dev. of 7 runs, 1,000 loops each)\n"
     ]
    }
   ],
   "source": [
    "%timeit app1(X, Y)\n",
    "%timeit app2(X, Y)\n",
    "%timeit app3(X, Y)\n",
    "%timeit app4(X, Y)\n",
    "%timeit app5(X, Y)\n",
    "%timeit app6(X)"
   ]
  },
  {
   "cell_type": "code",
   "execution_count": 3,
   "metadata": {},
   "outputs": [
    {
     "name": "stdout",
     "output_type": "stream",
     "text": [
      "True\n",
      "True\n",
      "True\n",
      "True\n",
      "True\n"
     ]
    }
   ],
   "source": [
    "res1 = app1(X, X)\n",
    "res2 = app2(X, X)\n",
    "res3 = app3(X, X, M)\n",
    "res4 = app4(X, X, M)\n",
    "res5 = app5(X, X)\n",
    "res6 = app6(X)\n",
    "\n",
    "print(np.allclose(res1, res2))\n",
    "print(np.allclose(res2, res3))\n",
    "print(np.allclose(res3, res4))\n",
    "print(np.allclose(res4, res5))\n",
    "print(np.allclose(res5, res6))"
   ]
  },
  {
   "cell_type": "code",
   "execution_count": 4,
   "metadata": {},
   "outputs": [
    {
     "name": "stdout",
     "output_type": "stream",
     "text": [
      "True\n",
      "True\n",
      "True\n",
      "True\n"
     ]
    }
   ],
   "source": [
    "from torch.autograd import grad\n",
    "\n",
    "X = X.requires_grad_()\n",
    "res1 = grad(app1(X, X.detach()).sum(), X)[0]\n",
    "res2 = grad(app2(X, X.detach()).sum(), X)[0]\n",
    "res3 = grad(app3(X, X.detach(), M).sum(), X)[0]\n",
    "res4 = grad(app4(X, X.detach(), M).sum(), X)[0]\n",
    "res5 = grad(app5(X, X.detach()).sum(), X)[0]\n",
    "# res6 = grad(app6(X).sum(), X)[0]\n",
    "\n",
    "print(np.allclose(res1, res2))\n",
    "print(np.allclose(res2, res3))\n",
    "print(np.allclose(res3, res4))\n",
    "print(np.allclose(res4, res5))\n",
    "# print(np.allclose(res5, res6))"
   ]
  }
 ],
 "metadata": {
  "kernelspec": {
   "display_name": "stein",
   "language": "python",
   "name": "python3"
  },
  "language_info": {
   "codemirror_mode": {
    "name": "ipython",
    "version": 3
   },
   "file_extension": ".py",
   "mimetype": "text/x-python",
   "name": "python",
   "nbconvert_exporter": "python",
   "pygments_lexer": "ipython3",
   "version": "3.9.12 (main, Jun  1 2022, 11:38:51) \n[GCC 7.5.0]"
  },
  "orig_nbformat": 4,
  "vscode": {
   "interpreter": {
    "hash": "18311e1eab8eea7ccc6304a31eeccf4665b9bc2078a2fef2d13a4bf50e562f61"
   }
  }
 },
 "nbformat": 4,
 "nbformat_minor": 2
}
