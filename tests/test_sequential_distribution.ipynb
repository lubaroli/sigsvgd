{
 "cells": [
  {
   "cell_type": "code",
   "execution_count": null,
   "metadata": {},
   "outputs": [],
   "source": [
    "import torch\n",
    "import matplotlib.pyplot as plt\n",
    "from torch.distributions import MultivariateNormal\n",
    "from stein_mpc.inference import SVGD\n",
    "from stein_mpc.kernels import GaussianKernel, TrajectoryKernel, PathSigKernel\n",
    "\n",
    "batch = 100\n",
    "length = 10\n",
    "channels = 2\n",
    "\n",
    "class SequentialDist():\n",
    "    def __init__(self, length, channels):\n",
    "        dists = []\n",
    "        for i in range(length):\n",
    "            loc = torch.randn(channels)\n",
    "            scale = torch.empty(channels).uniform_(0.1, 0.5).diag()\n",
    "            dists.append(MultivariateNormal(loc, scale_tril=scale))\n",
    "        self.dists = dists\n",
    "        \n",
    "    def log_prob(self, x, dim=None):\n",
    "        log_p = 0\n",
    "        if dim is None:\n",
    "            for i, dist in enumerate(self.dists):\n",
    "                log_p += dist.log_prob(x[i])\n",
    "        elif hasattr(dim, \"__iter__\"):\n",
    "            for i in dim:\n",
    "                log_p += self.dists[i].log_prob(x[i])\n",
    "        else:\n",
    "            log_p = self.dists[dim].log_prob(x)\n",
    "\n",
    "        return log_p\n",
    "\n",
    "    def plot_2d(self, dim, ax=None, grid_size=100, padding=1):\n",
    "        ngrid = 100\n",
    "        x_lim = torch.tensor([-padding, padding]) + self.dists[dim].mean[0]\n",
    "        y_lim = torch.tensor([-padding, padding]) + self.dists[dim].mean[1]\n",
    "        x = torch.linspace(*x_lim, grid_size)\n",
    "        y = torch.linspace(*y_lim, grid_size)\n",
    "        X, Y = torch.meshgrid(x,y)\n",
    "        Z = self.dists[dim].log_prob(torch.stack((X.flatten(), Y.flatten()), dim=1))\n",
    "        Z = Z.exp().reshape(grid_size, grid_size)\n",
    "\n",
    "        if ax is None:\n",
    "            plt.figure(figsize = (10, 10))\n",
    "            ax = plt.gca()\n",
    "        ax.contourf(X, Y, Z.data.numpy(), 30)\n",
    "        ax.set_xlim(x_lim)\n",
    "        ax.set_ylim(y_lim) \n",
    "    # mvn = MultivariateNormal(loc, covariance_matrix=cov)"
   ]
  },
  {
   "cell_type": "code",
   "execution_count": null,
   "metadata": {},
   "outputs": [],
   "source": [
    "dist = SequentialDist(length, channels)\n",
    "dist.plot_2d(1)\n",
    "\n",
    "sample = torch.randn(100, channels) + dist.dists[1].mean\n",
    "ax = plt.gca()\n",
    "ax.scatter(sample[:, 0].numpy(), sample[:, 1].numpy(), c=\"r\")\n"
   ]
  },
  {
   "cell_type": "code",
   "execution_count": null,
   "metadata": {},
   "outputs": [],
   "source": [
    "# Sets up the optimization problem\n",
    "torch.manual_seed(42)\n",
    "particles = torch.randn(batch, length, channels)\n",
    "dist = SequentialDist(length, channels)"
   ]
  },
  {
   "cell_type": "code",
   "execution_count": null,
   "metadata": {},
   "outputs": [],
   "source": [
    "# Batch optimization using SVGD\n",
    "n_iter = 500\n",
    "kernel = GaussianKernel()\n",
    "stein_sampler = SVGD(kernel, log_p=dist.log_prob,optimizer_class=torch.optim.Adam, lr=0.1)\n",
    "\n",
    "stein_sampler.optimize(particles, n_steps=n_iter)\n",
    "particles = particles.detach()"
   ]
  },
  {
   "cell_type": "code",
   "execution_count": null,
   "metadata": {},
   "outputs": [],
   "source": [
    "# Plotting\n",
    "fig, ax = plt.subplots(2, 5, figsize=(30, 10))\n",
    "for i in range(length):\n",
    "    dist.plot_2d(dim=i, ax=ax.flatten()[i])\n",
    "    ax.flatten()[i].scatter(particles[:, i, 0].numpy(), particles[:, i, 1].numpy(), s=50, c=\"red\", alpha=0.3)\n",
    "plt.show()"
   ]
  },
  {
   "cell_type": "code",
   "execution_count": null,
   "metadata": {},
   "outputs": [],
   "source": [
    "particles[:, 0]"
   ]
  },
  {
   "cell_type": "code",
   "execution_count": null,
   "metadata": {},
   "outputs": [],
   "source": [
    "dist.dists[0].mean"
   ]
  },
  {
   "cell_type": "code",
   "execution_count": null,
   "metadata": {},
   "outputs": [],
   "source": []
  }
 ],
 "metadata": {
  "kernelspec": {
   "display_name": "Python 3.8.0 ('pathsig')",
   "language": "python",
   "name": "python3"
  },
  "language_info": {
   "codemirror_mode": {
    "name": "ipython",
    "version": 3
   },
   "file_extension": ".py",
   "mimetype": "text/x-python",
   "name": "python",
   "nbconvert_exporter": "python",
   "pygments_lexer": "ipython3",
   "version": "3.8.0"
  },
  "orig_nbformat": 4,
  "vscode": {
   "interpreter": {
    "hash": "4acac48751243e0fed1e0cf06501c673a2357494ed9bda5b4e15028541113640"
   }
  }
 },
 "nbformat": 4,
 "nbformat_minor": 2
}
